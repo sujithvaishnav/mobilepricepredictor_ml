{
  "cells": [
    {
      "cell_type": "code",
      "execution_count": 2,
      "metadata": {
        "id": "Cfha1Xn5ipdp"
      },
      "outputs": [],
      "source": [
        "import pandas as pd\n",
        "import numpy as np\n",
        "import matplotlib.pyplot as plt\n",
        "import seaborn as sns"
      ]
    },
    {
      "cell_type": "code",
      "execution_count": 3,
      "metadata": {
        "id": "2TcVfrjokLNw"
      },
      "outputs": [],
      "source": [
        "df = pd.read_csv('Mobile phone price.csv')"
      ]
    },
    {
      "cell_type": "code",
      "execution_count": 4,
      "metadata": {
        "colab": {
          "base_uri": "https://localhost:8080/",
          "height": 345
        },
        "id": "37itrY-lkTIi",
        "outputId": "b2bcddbe-5ba9-4c1a-96d9-8a7f293e1242"
      },
      "outputs": [
        {
          "data": {
            "text/html": [
              "<div>\n",
              "<style scoped>\n",
              "    .dataframe tbody tr th:only-of-type {\n",
              "        vertical-align: middle;\n",
              "    }\n",
              "\n",
              "    .dataframe tbody tr th {\n",
              "        vertical-align: top;\n",
              "    }\n",
              "\n",
              "    .dataframe thead th {\n",
              "        text-align: right;\n",
              "    }\n",
              "</style>\n",
              "<table border=\"1\" class=\"dataframe\">\n",
              "  <thead>\n",
              "    <tr style=\"text-align: right;\">\n",
              "      <th></th>\n",
              "      <th>Brand</th>\n",
              "      <th>Model</th>\n",
              "      <th>Storage</th>\n",
              "      <th>RAM</th>\n",
              "      <th>Screen Size (inches)</th>\n",
              "      <th>Camera (MP)</th>\n",
              "      <th>Battery Capacity (mAh)</th>\n",
              "      <th>Price ($)</th>\n",
              "    </tr>\n",
              "  </thead>\n",
              "  <tbody>\n",
              "    <tr>\n",
              "      <th>0</th>\n",
              "      <td>Apple</td>\n",
              "      <td>iPhone 13 Pro</td>\n",
              "      <td>128 GB</td>\n",
              "      <td>6 GB</td>\n",
              "      <td>6.1</td>\n",
              "      <td>12 + 12 + 12</td>\n",
              "      <td>3095</td>\n",
              "      <td>999</td>\n",
              "    </tr>\n",
              "    <tr>\n",
              "      <th>1</th>\n",
              "      <td>Samsung</td>\n",
              "      <td>Galaxy S21 Ultra</td>\n",
              "      <td>256 GB</td>\n",
              "      <td>12 GB</td>\n",
              "      <td>6.8</td>\n",
              "      <td>108 + 10 + 10 + 12</td>\n",
              "      <td>5000</td>\n",
              "      <td>1199</td>\n",
              "    </tr>\n",
              "    <tr>\n",
              "      <th>2</th>\n",
              "      <td>OnePlus</td>\n",
              "      <td>9 Pro</td>\n",
              "      <td>128 GB</td>\n",
              "      <td>8 GB</td>\n",
              "      <td>6.7</td>\n",
              "      <td>48 + 50 + 8 + 2</td>\n",
              "      <td>4500</td>\n",
              "      <td>899</td>\n",
              "    </tr>\n",
              "    <tr>\n",
              "      <th>3</th>\n",
              "      <td>Xiaomi</td>\n",
              "      <td>Redmi Note 10 Pro</td>\n",
              "      <td>128 GB</td>\n",
              "      <td>6 GB</td>\n",
              "      <td>6.67</td>\n",
              "      <td>64 + 8 + 5 + 2</td>\n",
              "      <td>5020</td>\n",
              "      <td>279</td>\n",
              "    </tr>\n",
              "    <tr>\n",
              "      <th>4</th>\n",
              "      <td>Google</td>\n",
              "      <td>Pixel 6</td>\n",
              "      <td>128 GB</td>\n",
              "      <td>8 GB</td>\n",
              "      <td>6.4</td>\n",
              "      <td>50 + 12.2</td>\n",
              "      <td>4614</td>\n",
              "      <td>799</td>\n",
              "    </tr>\n",
              "  </tbody>\n",
              "</table>\n",
              "</div>"
            ],
            "text/plain": [
              "     Brand              Model Storage    RAM  Screen Size (inches)  \\\n",
              "0    Apple      iPhone 13 Pro   128 GB   6 GB                  6.1   \n",
              "1  Samsung   Galaxy S21 Ultra   256 GB  12 GB                  6.8   \n",
              "2  OnePlus              9 Pro   128 GB   8 GB                  6.7   \n",
              "3   Xiaomi  Redmi Note 10 Pro   128 GB   6 GB                 6.67   \n",
              "4   Google            Pixel 6   128 GB   8 GB                  6.4   \n",
              "\n",
              "          Camera (MP)  Battery Capacity (mAh) Price ($)  \n",
              "0        12 + 12 + 12                    3095       999  \n",
              "1  108 + 10 + 10 + 12                    5000      1199  \n",
              "2     48 + 50 + 8 + 2                    4500       899  \n",
              "3      64 + 8 + 5 + 2                    5020       279  \n",
              "4           50 + 12.2                    4614       799  "
            ]
          },
          "execution_count": 4,
          "metadata": {},
          "output_type": "execute_result"
        }
      ],
      "source": [
        "df.head()"
      ]
    },
    {
      "cell_type": "code",
      "execution_count": 5,
      "metadata": {
        "colab": {
          "base_uri": "https://localhost:8080/"
        },
        "id": "HFHecVplkaUP",
        "outputId": "7b14b9ee-cdd7-447f-c240-3893d5d8f0d9"
      },
      "outputs": [
        {
          "data": {
            "text/plain": [
              "Brand\n",
              "Samsung       79\n",
              "Xiaomi        67\n",
              "Oppo          56\n",
              "Realme        43\n",
              "Vivo          35\n",
              "Apple         30\n",
              "Nokia         28\n",
              "Motorola      23\n",
              "OnePlus       15\n",
              "Huawei        12\n",
              "Google         7\n",
              "Asus           4\n",
              "LG             3\n",
              "Blackberry     3\n",
              "Sony           1\n",
              "CAT            1\n",
              "Name: count, dtype: int64"
            ]
          },
          "execution_count": 5,
          "metadata": {},
          "output_type": "execute_result"
        }
      ],
      "source": [
        "df['Brand'].value_counts()"
      ]
    },
    {
      "cell_type": "code",
      "execution_count": 6,
      "metadata": {
        "colab": {
          "base_uri": "https://localhost:8080/",
          "height": 527
        },
        "id": "rLJAsHht-W-X",
        "outputId": "e03c7e26-40e1-480c-ccfc-51a8a6c8e580"
      },
      "outputs": [
        {
          "data": {
            "text/plain": [
              "<Axes: xlabel='Brand'>"
            ]
          },
          "execution_count": 6,
          "metadata": {},
          "output_type": "execute_result"
        },
        {
          "data": {
            "image/png": "[encoded data removed]",
            "text/plain": [
              "<Figure size 640x480 with 1 Axes>"
            ]
          },
          "metadata": {},
          "output_type": "display_data"
        }
      ],
      "source": [
        "df['Brand'].value_counts().plot(kind='bar')"
      ]
    },
    {
      "cell_type": "code",
      "execution_count": 7,
      "metadata": {
        "colab": {
          "base_uri": "https://localhost:8080/",
          "height": 516
        },
        "id": "3qqy7bmD-mLd",
        "outputId": "2d054510-f224-44f7-fc26-fdf75d2d2411"
      },
      "outputs": [
        {
          "data": {
            "image/png": "[encoded data removed]",
            "text/plain": [
              "<Figure size 640x480 with 1 Axes>"
            ]
          },
          "metadata": {},
          "output_type": "display_data"
        }
      ],
      "source": [
        "sns.barplot(x=df['Brand'],y=df['Price ($)'])\n",
        "plt.xticks(rotation='vertical')\n",
        "plt.show()"
      ]
    },
    {
      "cell_type": "code",
      "execution_count": 8,
      "metadata": {
        "id": "WkRJU42jkix8"
      },
      "outputs": [],
      "source": [
        "from sklearn.preprocessing import LabelEncoder\n",
        "lab = LabelEncoder()\n",
        "df['Brand'] = lab.fit_transform(df['Brand'])"
      ]
    },
    {
      "cell_type": "code",
      "execution_count": 9,
      "metadata": {
        "id": "UfJ6Ruuwk6mM"
      },
      "outputs": [],
      "source": [
        "df['RAM'] = df['RAM '].str.replace('GB','')\n",
        "df['RAM'] = df['RAM'].astype('int32')"
      ]
    },
    {
      "cell_type": "code",
      "execution_count": 10,
      "metadata": {
        "id": "CPY439iylWh3"
      },
      "outputs": [],
      "source": [
        "df.drop(columns=['RAM '],inplace=True)"
      ]
    },
    {
      "cell_type": "code",
      "execution_count": 11,
      "metadata": {
        "id": "PI4oSn5bmn9W"
      },
      "outputs": [],
      "source": [
        "df['Storage'] = df['Storage '].str.replace('GB','')\n",
        "df['Storage'] = df['Storage'].astype('int32')"
      ]
    },
    {
      "cell_type": "code",
      "execution_count": 12,
      "metadata": {
        "id": "SbAxS_6gm2WA"
      },
      "outputs": [],
      "source": [
        "df.drop(columns=['Storage '],inplace=True)"
      ]
    },
    {
      "cell_type": "code",
      "execution_count": 13,
      "metadata": {
        "colab": {
          "base_uri": "https://localhost:8080/"
        },
        "id": "eSd_ZYVRmHBl",
        "outputId": "52c38d4d-308d-4e25-a894-f9890075f165"
      },
      "outputs": [
        {
          "data": {
            "text/plain": [
              "Index(['Brand', 'Model', 'Screen Size (inches)', 'Camera (MP)',\n",
              "       'Battery Capacity (mAh)', 'Price ($)', 'RAM', 'Storage'],\n",
              "      dtype='object')"
            ]
          },
          "execution_count": 13,
          "metadata": {},
          "output_type": "execute_result"
        }
      ],
      "source": [
        "df.columns"
      ]
    },
    {
      "cell_type": "code",
      "execution_count": 14,
      "metadata": {
        "id": "UOeAen0knEnK"
      },
      "outputs": [],
      "source": [
        "df['Price ($)'] = df['Price ($)'].str.replace('$','')\n",
        "df['Price ($)'] = df['Price ($)'].str.replace(',','')\n",
        "df['Price ($)'] = df['Price ($)'].astype('float32')"
      ]
    },
    {
      "cell_type": "code",
      "execution_count": 15,
      "metadata": {
        "id": "g1P1etJfnfjF"
      },
      "outputs": [],
      "source": [
        "df['5G'] = df['Model'].apply(lambda x:1 if '5G' in x else 0)"
      ]
    },
    {
      "cell_type": "code",
      "execution_count": 16,
      "metadata": {
        "colab": {
          "base_uri": "https://localhost:8080/"
        },
        "id": "T_5nDp5Oljlq",
        "outputId": "9d3a7b56-0d48-43fc-d3c8-2bbc6ecbb3a4"
      },
      "outputs": [
        {
          "name": "stdout",
          "output_type": "stream",
          "text": [
            "<class 'pandas.core.frame.DataFrame'>\n",
            "RangeIndex: 407 entries, 0 to 406\n",
            "Data columns (total 9 columns):\n",
            " #   Column                  Non-Null Count  Dtype  \n",
            "---  ------                  --------------  -----  \n",
            " 0   Brand                   407 non-null    int32  \n",
            " 1   Model                   407 non-null    object \n",
            " 2   Screen Size (inches)    407 non-null    object \n",
            " 3   Camera (MP)             407 non-null    object \n",
            " 4   Battery Capacity (mAh)  407 non-null    int64  \n",
            " 5   Price ($)               407 non-null    float32\n",
            " 6   RAM                     407 non-null    int32  \n",
            " 7   Storage                 407 non-null    int32  \n",
            " 8   5G                      407 non-null    int64  \n",
            "dtypes: float32(1), int32(3), int64(2), object(3)\n",
            "memory usage: 22.4+ KB\n"
          ]
        }
      ],
      "source": [
        "df.info()"
      ]
    },
    {
      "cell_type": "code",
      "execution_count": 17,
      "metadata": {
        "colab": {
          "base_uri": "https://localhost:8080/"
        },
        "id": "a7M6Q4vAoPNp",
        "outputId": "e6601fda-22a3-4e78-d50a-d62496889a35"
      },
      "outputs": [
        {
          "data": {
            "text/plain": [
              "0          iPhone 13 Pro\n",
              "1       Galaxy S21 Ultra\n",
              "2                  9 Pro\n",
              "3      Redmi Note 10 Pro\n",
              "4                Pixel 6\n",
              "             ...        \n",
              "402     Galaxy Note20 5G\n",
              "403        Mi 10 Lite 5G\n",
              "404    iPhone 12 Pro Max\n",
              "405                Reno3\n",
              "406      Galaxy S10 Lite\n",
              "Name: Model, Length: 407, dtype: object"
            ]
          },
          "execution_count": 17,
          "metadata": {},
          "output_type": "execute_result"
        }
      ],
      "source": [
        "df['Model']"
      ]
    },
    {
      "cell_type": "code",
      "execution_count": 18,
      "metadata": {
        "colab": {
          "base_uri": "https://localhost:8080/"
        },
        "id": "XjncYUsGgK_V",
        "outputId": "45299689-2d7c-4aee-a00a-bdd7243bd520"
      },
      "outputs": [
        {
          "data": {
            "text/plain": [
              "0            12 + 12 + 12\n",
              "1      108 + 10 + 10 + 12\n",
              "2         48 + 50 + 8 + 2\n",
              "3          64 + 8 + 5 + 2\n",
              "4               50 + 12.2\n",
              "              ...        \n",
              "402              12+64+12\n",
              "403              48+8+2+2\n",
              "404              12+12+12\n",
              "405             48+13+8+2\n",
              "406               48+12+5\n",
              "Name: Camera (MP), Length: 407, dtype: object"
            ]
          },
          "execution_count": 18,
          "metadata": {},
          "output_type": "execute_result"
        }
      ],
      "source": [
        "df['Camera (MP)']"
      ]
    },
    {
      "cell_type": "code",
      "execution_count": 19,
      "metadata": {
        "id": "2JasZUZOhqBG"
      },
      "outputs": [],
      "source": [
        "df = df[(df['Screen Size (inches)'] != '6.8 + 3.9') & (~df['Screen Size (inches)'].str.contains('7.6 \\\\(unfolded\\\\)', na=False))]\n"
      ]
    },
    {
      "cell_type": "code",
      "execution_count": 20,
      "metadata": {
        "id": "4eC-v8xJh0n0"
      },
      "outputs": [],
      "source": [
        "df['Screen Size (inches)'] = df['Screen Size (inches)'].astype('float32')"
      ]
    },
    {
      "cell_type": "code",
      "execution_count": 21,
      "metadata": {
        "colab": {
          "base_uri": "https://localhost:8080/"
        },
        "id": "NULhMJeViafM",
        "outputId": "a444b925-1d98-49d3-bea4-6a36a3bb715e"
      },
      "outputs": [
        {
          "data": {
            "text/plain": [
              "0       12 \n",
              "1      108 \n",
              "2       48 \n",
              "3       64 \n",
              "4       50 \n",
              "       ... \n",
              "402      12\n",
              "403      48\n",
              "404      12\n",
              "405      48\n",
              "406      48\n",
              "Name: Primary camera, Length: 405, dtype: object"
            ]
          },
          "execution_count": 21,
          "metadata": {},
          "output_type": "execute_result"
        }
      ],
      "source": [
        "camera_data = df['Camera (MP)'].str.split('+', expand=True).fillna('0')\n",
        "\n",
        "\n",
        "df['Primary camera'] = camera_data[0]\n",
        "df['Front camera'] = camera_data[1]\n",
        "df['Secondary camera'] = camera_data[2]\n",
        "df['Macro camera'] = camera_data[3]\n",
        "\n",
        "df['Primary camera']"
      ]
    },
    {
      "cell_type": "code",
      "execution_count": 22,
      "metadata": {
        "colab": {
          "base_uri": "https://localhost:8080/"
        },
        "id": "6ORt5AU1jUg0",
        "outputId": "a69be408-ae57-4846-f088-fcc0d0032fa6"
      },
      "outputs": [
        {
          "data": {
            "text/plain": [
              "Index(['Brand', 'Model', 'Screen Size (inches)', 'Camera (MP)',\n",
              "       'Battery Capacity (mAh)', 'Price ($)', 'RAM', 'Storage', '5G',\n",
              "       'Primary camera', 'Front camera', 'Secondary camera', 'Macro camera'],\n",
              "      dtype='object')"
            ]
          },
          "execution_count": 22,
          "metadata": {},
          "output_type": "execute_result"
        }
      ],
      "source": [
        "df.columns"
      ]
    },
    {
      "cell_type": "code",
      "execution_count": 23,
      "metadata": {
        "id": "J_WmNhaQmTjV"
      },
      "outputs": [],
      "source": [
        "df['Primary camera'] = df['Primary camera'].str.replace('MP','')\n",
        "df['Primary camera'] = df['Primary camera'].astype('float32')"
      ]
    },
    {
      "cell_type": "code",
      "execution_count": 24,
      "metadata": {
        "id": "e4kzTlXWmNlX"
      },
      "outputs": [],
      "source": [
        "df['Front camera'] = df['Front camera'].str.replace('MP','')\n",
        "df['Front camera'] = df['Front camera'].astype('float32')"
      ]
    },
    {
      "cell_type": "code",
      "execution_count": 25,
      "metadata": {
        "id": "JOySU39EmNgj"
      },
      "outputs": [],
      "source": [
        "df['Secondary camera'] = df['Secondary camera'].str.replace('MP','')\n",
        "df['Secondary camera'] = df['Secondary camera'].astype('float32')"
      ]
    },
    {
      "cell_type": "code",
      "execution_count": 26,
      "metadata": {
        "id": "CftpFvYPmNcM"
      },
      "outputs": [],
      "source": [
        "df['Macro camera'] = df['Macro camera'].str.replace('MP','')\n",
        "df['Macro camera'] = df['Macro camera'].str.replace('3D','')\n",
        "\n",
        "df = df[df['Macro camera'] != '']\n",
        "df = df[df['Macro camera'] != 'ToF']\n",
        "df['Macro camera'] = df['Macro camera'].astype('float32')"
      ]
    },
    {
      "cell_type": "code",
      "execution_count": 27,
      "metadata": {
        "id": "m8PEyVqgpUr1"
      },
      "outputs": [],
      "source": [
        "df.drop(columns=['Camera (MP)'],inplace=True)"
      ]
    },
    {
      "cell_type": "code",
      "execution_count": 28,
      "metadata": {
        "colab": {
          "base_uri": "https://localhost:8080/"
        },
        "id": "E9fC6Msif9uR",
        "outputId": "c8986b2a-91f8-4c5f-fd34-d6189334c2b9"
      },
      "outputs": [
        {
          "name": "stdout",
          "output_type": "stream",
          "text": [
            "<class 'pandas.core.frame.DataFrame'>\n",
            "Index: 398 entries, 0 to 406\n",
            "Data columns (total 12 columns):\n",
            " #   Column                  Non-Null Count  Dtype  \n",
            "---  ------                  --------------  -----  \n",
            " 0   Brand                   398 non-null    int32  \n",
            " 1   Model                   398 non-null    object \n",
            " 2   Screen Size (inches)    398 non-null    float32\n",
            " 3   Battery Capacity (mAh)  398 non-null    int64  \n",
            " 4   Price ($)               398 non-null    float32\n",
            " 5   RAM                     398 non-null    int32  \n",
            " 6   Storage                 398 non-null    int32  \n",
            " 7   5G                      398 non-null    int64  \n",
            " 8   Primary camera          398 non-null    float32\n",
            " 9   Front camera            398 non-null    float32\n",
            " 10  Secondary camera        398 non-null    float32\n",
            " 11  Macro camera            398 non-null    float32\n",
            "dtypes: float32(6), int32(3), int64(2), object(1)\n",
            "memory usage: 26.4+ KB\n"
          ]
        }
      ],
      "source": [
        "df.info()"
      ]
    },
    {
      "cell_type": "code",
      "execution_count": 29,
      "metadata": {
        "colab": {
          "base_uri": "https://localhost:8080/"
        },
        "id": "ti_0_DjIpinp",
        "outputId": "695413a9-e30b-434b-a5fc-a12219f68555"
      },
      "outputs": [
        {
          "data": {
            "text/plain": [
              "Model\n",
              "Poco X3 Pro           6\n",
              "A54                   5\n",
              "C21Y                  5\n",
              "iPhone XR             5\n",
              "Y33s                  5\n",
              "                     ..\n",
              "A53s 5G               1\n",
              "Mi 11 Lite NE         1\n",
              "Moto G Stylus 2021    1\n",
              "A54s 5G               1\n",
              "Reno3                 1\n",
              "Name: count, Length: 232, dtype: int64"
            ]
          },
          "execution_count": 29,
          "metadata": {},
          "output_type": "execute_result"
        }
      ],
      "source": [
        "df['Model'].value_counts()"
      ]
    },
    {
      "cell_type": "code",
      "execution_count": 30,
      "metadata": {
        "id": "7ULVfAqPfnU9"
      },
      "outputs": [],
      "source": [
        "df.drop(columns=['Model'],inplace=True)"
      ]
    },
    {
      "cell_type": "code",
      "execution_count": 31,
      "metadata": {
        "colab": {
          "base_uri": "https://localhost:8080/"
        },
        "id": "pBvWTwnUqCLg",
        "outputId": "e602a5ea-43ec-4a26-e3d0-cc6fbf2aa605"
      },
      "outputs": [
        {
          "data": {
            "text/plain": [
              "Brand                    -0.378364\n",
              "Screen Size (inches)     -0.034243\n",
              "Battery Capacity (mAh)   -0.420071\n",
              "Price ($)                 1.000000\n",
              "RAM                       0.617548\n",
              "Storage                   0.667645\n",
              "5G                        0.153073\n",
              "Primary camera            0.119753\n",
              "Front camera              0.623662\n",
              "Secondary camera          0.616514\n",
              "Macro camera              0.193432\n",
              "Name: Price ($), dtype: float64"
            ]
          },
          "execution_count": 31,
          "metadata": {},
          "output_type": "execute_result"
        }
      ],
      "source": [
        "df.corr()['Price ($)']"
      ]
    },
    {
      "cell_type": "code",
      "execution_count": 32,
      "metadata": {
        "colab": {
          "base_uri": "https://localhost:8080/"
        },
        "id": "VIt0lMkif6l4",
        "outputId": "2aa68bcb-0bff-4dc6-903e-0f48f03deb02"
      },
      "outputs": [
        {
          "name": "stdout",
          "output_type": "stream",
          "text": [
            "<class 'pandas.core.frame.DataFrame'>\n",
            "Index: 398 entries, 0 to 406\n",
            "Data columns (total 11 columns):\n",
            " #   Column                  Non-Null Count  Dtype  \n",
            "---  ------                  --------------  -----  \n",
            " 0   Brand                   398 non-null    int32  \n",
            " 1   Screen Size (inches)    398 non-null    float32\n",
            " 2   Battery Capacity (mAh)  398 non-null    int64  \n",
            " 3   Price ($)               398 non-null    float32\n",
            " 4   RAM                     398 non-null    int32  \n",
            " 5   Storage                 398 non-null    int32  \n",
            " 6   5G                      398 non-null    int64  \n",
            " 7   Primary camera          398 non-null    float32\n",
            " 8   Front camera            398 non-null    float32\n",
            " 9   Secondary camera        398 non-null    float32\n",
            " 10  Macro camera            398 non-null    float32\n",
            "dtypes: float32(6), int32(3), int64(2)\n",
            "memory usage: 23.3 KB\n"
          ]
        }
      ],
      "source": [
        "df.info()"
      ]
    },
    {
      "cell_type": "code",
      "execution_count": 33,
      "metadata": {},
      "outputs": [],
      "source": [
        "df['Price'] = df['Price ($)']*83"
      ]
    },
    {
      "cell_type": "code",
      "execution_count": 34,
      "metadata": {},
      "outputs": [],
      "source": [
        "df.drop(columns=['Price ($)'],inplace=True)"
      ]
    },
    {
      "cell_type": "code",
      "execution_count": 35,
      "metadata": {
        "id": "dJqDU-OVgC3R"
      },
      "outputs": [],
      "source": [
        "X = df.drop(columns = ['Price'])\n",
        "Y = df['Price']"
      ]
    },
    {
      "cell_type": "code",
      "execution_count": 36,
      "metadata": {
        "id": "G5bb9rcNgw8k"
      },
      "outputs": [],
      "source": [
        "from sklearn.model_selection import train_test_split\n",
        "\n",
        "X_train,X_test,y_train,y_test = train_test_split(X,Y,test_size=0.3,random_state=1)"
      ]
    },
    {
      "cell_type": "code",
      "execution_count": 37,
      "metadata": {
        "id": "S9fkWc5Ng9Jf"
      },
      "outputs": [],
      "source": [
        "from sklearn.preprocessing import StandardScaler\n",
        "\n",
        "scaling = StandardScaler()\n",
        "X_train = scaling.fit_transform(X_train)\n",
        "X_test = scaling.transform(X_test)"
      ]
    },
    {
      "cell_type": "code",
      "execution_count": 38,
      "metadata": {
        "colab": {
          "base_uri": "https://localhost:8080/"
        },
        "id": "kobKwq5QhCZL",
        "outputId": "fdbe40d3-5a65-48f8-c419-58d74667b2f4"
      },
      "outputs": [
        {
          "name": "stderr",
          "output_type": "stream",
          "text": [
            "c:\\Users\\sujit\\AppData\\Local\\Programs\\Python\\Python312\\Lib\\site-packages\\sklearn\\metrics\\_regression.py:492: FutureWarning: 'squared' is deprecated in version 1.4 and will be removed in 1.6. To calculate the root mean squared error, use the function'root_mean_squared_error'.\n",
            "  warnings.warn(\n",
            "c:\\Users\\sujit\\AppData\\Local\\Programs\\Python\\Python312\\Lib\\site-packages\\sklearn\\metrics\\_regression.py:492: FutureWarning: 'squared' is deprecated in version 1.4 and will be removed in 1.6. To calculate the root mean squared error, use the function'root_mean_squared_error'.\n",
            "  warnings.warn(\n",
            "c:\\Users\\sujit\\AppData\\Local\\Programs\\Python\\Python312\\Lib\\site-packages\\sklearn\\metrics\\_regression.py:492: FutureWarning: 'squared' is deprecated in version 1.4 and will be removed in 1.6. To calculate the root mean squared error, use the function'root_mean_squared_error'.\n",
            "  warnings.warn(\n",
            "c:\\Users\\sujit\\AppData\\Local\\Programs\\Python\\Python312\\Lib\\site-packages\\sklearn\\metrics\\_regression.py:492: FutureWarning: 'squared' is deprecated in version 1.4 and will be removed in 1.6. To calculate the root mean squared error, use the function'root_mean_squared_error'.\n",
            "  warnings.warn(\n",
            "c:\\Users\\sujit\\AppData\\Local\\Programs\\Python\\Python312\\Lib\\site-packages\\sklearn\\metrics\\_regression.py:492: FutureWarning: 'squared' is deprecated in version 1.4 and will be removed in 1.6. To calculate the root mean squared error, use the function'root_mean_squared_error'.\n",
            "  warnings.warn(\n"
          ]
        },
        {
          "name": "stdout",
          "output_type": "stream",
          "text": [
            "LinearRegression\n",
            "Model Training Performance\n",
            "RMSE: 11463.26822846831\n",
            "MAE: 7623.3650848009565\n",
            "R2 score 78.3352970763795\n",
            "===================================\n",
            "\n",
            "\n",
            "Lasso\n",
            "Model Training Performance\n",
            "RMSE: 11463.822278530466\n",
            "MAE: 7623.315395304223\n",
            "R2 score 78.33320280102302\n",
            "===================================\n",
            "\n",
            "\n",
            "Ridge\n",
            "Model Training Performance\n",
            "RMSE: 11470.962499933095\n",
            "MAE: 7621.662697261558\n",
            "R2 score 78.30620414308483\n",
            "===================================\n",
            "\n",
            "\n",
            "ElasticNet\n",
            "Model Training Performance\n",
            "RMSE: 12904.58889792803\n",
            "MAE: 8244.85972823976\n",
            "R2 score 72.54482750951897\n",
            "===================================\n",
            "\n",
            "\n",
            "DecisionTree\n",
            "Model Training Performance\n",
            "RMSE: 8950.118381717599\n",
            "MAE: 4455.255555555556\n",
            "R2 score 86.79332810456526\n",
            "===================================\n",
            "\n",
            "\n"
          ]
        },
        {
          "name": "stderr",
          "output_type": "stream",
          "text": [
            "c:\\Users\\sujit\\AppData\\Local\\Programs\\Python\\Python312\\Lib\\site-packages\\sklearn\\metrics\\_regression.py:492: FutureWarning: 'squared' is deprecated in version 1.4 and will be removed in 1.6. To calculate the root mean squared error, use the function'root_mean_squared_error'.\n",
            "  warnings.warn(\n",
            "c:\\Users\\sujit\\AppData\\Local\\Programs\\Python\\Python312\\Lib\\site-packages\\sklearn\\metrics\\_regression.py:492: FutureWarning: 'squared' is deprecated in version 1.4 and will be removed in 1.6. To calculate the root mean squared error, use the function'root_mean_squared_error'.\n",
            "  warnings.warn(\n"
          ]
        },
        {
          "name": "stdout",
          "output_type": "stream",
          "text": [
            "StackingRegression\n",
            "Model Training Performance\n",
            "RMSE: 6812.491960332678\n",
            "MAE: 4443.122976010246\n",
            "R2 score 92.34847794248078\n",
            "===================================\n",
            "\n",
            "\n",
            "KNN\n",
            "Model Training Performance\n",
            "RMSE: 12399.745\n",
            "MAE: 6916.4365\n",
            "R2 score 74.65096712112427\n",
            "===================================\n",
            "\n",
            "\n"
          ]
        },
        {
          "name": "stderr",
          "output_type": "stream",
          "text": [
            "c:\\Users\\sujit\\AppData\\Local\\Programs\\Python\\Python312\\Lib\\site-packages\\sklearn\\metrics\\_regression.py:492: FutureWarning: 'squared' is deprecated in version 1.4 and will be removed in 1.6. To calculate the root mean squared error, use the function'root_mean_squared_error'.\n",
            "  warnings.warn(\n",
            "c:\\Users\\sujit\\AppData\\Local\\Programs\\Python\\Python312\\Lib\\site-packages\\sklearn\\metrics\\_regression.py:492: FutureWarning: 'squared' is deprecated in version 1.4 and will be removed in 1.6. To calculate the root mean squared error, use the function'root_mean_squared_error'.\n",
            "  warnings.warn(\n"
          ]
        },
        {
          "name": "stdout",
          "output_type": "stream",
          "text": [
            "VotingRegression\n",
            "Model Training Performance\n",
            "RMSE: 6822.143283954139\n",
            "MAE: 4464.6489598498365\n",
            "R2 score 92.32678261392574\n",
            "===================================\n",
            "\n",
            "\n",
            "XGBoost\n",
            "Model Training Performance\n",
            "RMSE: 7555.233\n",
            "MAE: 4215.5293\n",
            "R2 score 90.5890941619873\n",
            "===================================\n",
            "\n",
            "\n"
          ]
        },
        {
          "name": "stderr",
          "output_type": "stream",
          "text": [
            "c:\\Users\\sujit\\AppData\\Local\\Programs\\Python\\Python312\\Lib\\site-packages\\sklearn\\metrics\\_regression.py:492: FutureWarning: 'squared' is deprecated in version 1.4 and will be removed in 1.6. To calculate the root mean squared error, use the function'root_mean_squared_error'.\n",
            "  warnings.warn(\n",
            "c:\\Users\\sujit\\AppData\\Local\\Programs\\Python\\Python312\\Lib\\site-packages\\sklearn\\metrics\\_regression.py:492: FutureWarning: 'squared' is deprecated in version 1.4 and will be removed in 1.6. To calculate the root mean squared error, use the function'root_mean_squared_error'.\n",
            "  warnings.warn(\n"
          ]
        },
        {
          "name": "stdout",
          "output_type": "stream",
          "text": [
            "GradientBoost\n",
            "Model Training Performance\n",
            "RMSE: 7207.884948970053\n",
            "MAE: 4451.824302836299\n",
            "R2 score 91.43452363965932\n",
            "===================================\n",
            "\n",
            "\n",
            "AdaBoost\n",
            "Model Training Performance\n",
            "RMSE: 8680.026092190297\n",
            "MAE: 6161.267753936202\n",
            "R2 score 87.57838997845477\n",
            "===================================\n",
            "\n",
            "\n",
            "RandomForest\n",
            "Model Training Performance\n",
            "RMSE: 7191.767497814626\n",
            "MAE: 4671.052481481482\n",
            "R2 score 91.47278709639274\n",
            "===================================\n",
            "\n",
            "\n"
          ]
        },
        {
          "name": "stderr",
          "output_type": "stream",
          "text": [
            "c:\\Users\\sujit\\AppData\\Local\\Programs\\Python\\Python312\\Lib\\site-packages\\sklearn\\metrics\\_regression.py:492: FutureWarning: 'squared' is deprecated in version 1.4 and will be removed in 1.6. To calculate the root mean squared error, use the function'root_mean_squared_error'.\n",
            "  warnings.warn(\n"
          ]
        }
      ],
      "source": [
        "from sklearn.linear_model import LinearRegression, Lasso, Ridge, ElasticNet\n",
        "from sklearn.tree import DecisionTreeRegressor\n",
        "from sklearn.metrics import mean_absolute_error, mean_squared_error, r2_score\n",
        "from sklearn.svm import SVR\n",
        "from sklearn.ensemble import VotingRegressor, StackingRegressor\n",
        "from sklearn.ensemble import RandomForestRegressor, GradientBoostingRegressor, AdaBoostRegressor, ExtraTreesRegressor\n",
        "from xgboost import XGBRegressor\n",
        "from sklearn.neighbors import KNeighborsRegressor\n",
        "\n",
        "estimators = [\n",
        "    ('rf', RandomForestRegressor(n_estimators=350, random_state=3, max_samples=0.5, max_features=0.75, max_depth=15, bootstrap=True)),\n",
        "    ('gbdt', GradientBoostingRegressor(n_estimators=100, max_features=0.5)),\n",
        "    ('xgb', XGBRegressor(n_estimators=25, learning_rate=0.3, max_depth=5))\n",
        "]\n",
        "\n",
        "rf = RandomForestRegressor(n_estimators=350, random_state=3, max_samples=0.5, max_features=0.75, max_depth=15, bootstrap=True)\n",
        "gbdt = GradientBoostingRegressor(n_estimators=100, max_features=0.5)\n",
        "xgb = XGBRegressor(n_estimators=25, learning_rate=0.3, max_depth=5)\n",
        "et = ExtraTreesRegressor(n_estimators=100, random_state=3, max_samples=0.5, max_features=0.75, max_depth=10, bootstrap=True)\n",
        "\n",
        "models = {\n",
        "    'LinearRegression': LinearRegression(),\n",
        "    'Lasso': Lasso(),\n",
        "    'Ridge': Ridge(),\n",
        "    'ElasticNet': ElasticNet(),\n",
        "    'DecisionTree': DecisionTreeRegressor(),\n",
        "    'StackingRegression': StackingRegressor(estimators=estimators, final_estimator=Ridge(alpha=100)),\n",
        "    'KNN': KNeighborsRegressor(n_neighbors=3),\n",
        "    'VotingRegression': VotingRegressor([('rf', rf), ('gbdt', gbdt), ('xgb', xgb), ('et', et)], weights=[5, 1, 1, 1]),\n",
        "    'XGBoost' : XGBRegressor(n_estimators=45,max_depth=5,learning_rate=0.5),\n",
        "    'GradientBoost' : GradientBoostingRegressor(n_estimators=500),\n",
        "    'AdaBoost' : AdaBoostRegressor(n_estimators=15,learning_rate=1.0),\n",
        "    'RandomForest' : RandomForestRegressor(n_estimators=100,random_state=3,max_samples=0.5,max_features=0.75,max_depth=15)\n",
        "}\n",
        "\n",
        "trained_model_list = []\n",
        "model_list = []\n",
        "r2_list = []\n",
        "\n",
        "best_model = None\n",
        "best_r2 = float('-inf')\n",
        "\n",
        "def evaluate_model(y_test, y_pred):\n",
        "    mae = mean_absolute_error(y_test, y_pred)\n",
        "    rmse = mean_squared_error(y_test, y_pred, squared=False)\n",
        "    r2_square = r2_score(y_test, y_pred)\n",
        "    return mae, rmse, r2_square\n",
        "\n",
        "for model_name, model in models.items():\n",
        "    model.fit(X_train, y_train)\n",
        "\n",
        "    y_pred = model.predict(X_test)\n",
        "\n",
        "    mae, rmse, r2_square = evaluate_model(y_test, y_pred)\n",
        "\n",
        "    print(model_name)\n",
        "    model_list.append(model_name)\n",
        "\n",
        "    print('Model Training Performance')\n",
        "    print(\"RMSE:\", rmse)\n",
        "    print(\"MAE:\", mae)\n",
        "    print(\"R2 score\", r2_square * 100)\n",
        "\n",
        "    r2_list.append(r2_square)\n",
        "\n",
        "    if r2_square > best_r2:\n",
        "        best_r2 = r2_square\n",
        "        best_model = model\n",
        "\n",
        "    print('=' * 35)\n",
        "    print('\\n')\n"
      ]
    },
    {
      "cell_type": "code",
      "execution_count": 39,
      "metadata": {},
      "outputs": [
        {
          "name": "stdout",
          "output_type": "stream",
          "text": [
            "StackingRegressor(estimators=[('rf',\n",
            "                               RandomForestRegressor(max_depth=15,\n",
            "                                                     max_features=0.75,\n",
            "                                                     max_samples=0.5,\n",
            "                                                     n_estimators=350,\n",
            "                                                     random_state=3)),\n",
            "                              ('gbdt',\n",
            "                               GradientBoostingRegressor(max_features=0.5)),\n",
            "                              ('xgb',\n",
            "                               XGBRegressor(base_score=None, booster=None,\n",
            "                                            callbacks=None,\n",
            "                                            colsample_bylevel=None,\n",
            "                                            colsample_bynode=None,\n",
            "                                            colsample_bytree=None, device=None,\n",
            "                                            early_stopping_...\n",
            "                                            importance_type=None,\n",
            "                                            interaction_constraints=None,\n",
            "                                            learning_rate=0.3, max_bin=None,\n",
            "                                            max_cat_threshold=None,\n",
            "                                            max_cat_to_onehot=None,\n",
            "                                            max_delta_step=None, max_depth=5,\n",
            "                                            max_leaves=None,\n",
            "                                            min_child_weight=None, missing=nan,\n",
            "                                            monotone_constraints=None,\n",
            "                                            multi_strategy=None,\n",
            "                                            n_estimators=25, n_jobs=None,\n",
            "                                            num_parallel_tree=None,\n",
            "                                            random_state=None, ...))],\n",
            "                  final_estimator=Ridge(alpha=100))\n",
            "0.9234847794248078\n"
          ]
        }
      ],
      "source": [
        "print(best_model)\n",
        "print(best_r2)"
      ]
    },
    {
      "cell_type": "code",
      "execution_count": 40,
      "metadata": {},
      "outputs": [
        {
          "name": "stdout",
          "output_type": "stream",
          "text": [
            "Best model saved to 'best_model.pkl'\n"
          ]
        }
      ],
      "source": [
        "import joblib\n",
        "\n",
        "joblib.dump(best_model, 'best_model.pkl')\n",
        "\n",
        "print(\"Best model saved to 'best_model.pkl'\")"
      ]
    }
  ],
  "metadata": {
    "colab": {
      "provenance": []
    },
    "kernelspec": {
      "display_name": "Python 3",
      "name": "python3"
    },
    "language_info": {
      "codemirror_mode": {
        "name": "ipython",
        "version": 3
      },
      "file_extension": ".py",
      "mimetype": "text/x-python",
      "name": "python",
      "nbconvert_exporter": "python",
      "pygments_lexer": "ipython3",
      "version": "3.12.1"
    }
  },
  "nbformat": 4,
  "nbformat_minor": 0
}
